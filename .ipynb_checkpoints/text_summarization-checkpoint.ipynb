{
 "cells": [
  {
   "cell_type": "code",
   "execution_count": 14,
   "metadata": {},
   "outputs": [],
   "source": [
    "#importing required libraries\n",
    "import nltk \n",
    "from nltk.corpus import stopwords \n",
    "from nltk.tokenize import word_tokenize, sent_tokenize\n",
    "import os"
   ]
  },
  {
   "cell_type": "code",
   "execution_count": 7,
   "metadata": {},
   "outputs": [],
   "source": [
    "def read_file(path):\n",
    "    file = open(path)\n",
    "    file.seek(0)\n",
    "    file_content = file.read()\n",
    "    file.close()\n",
    "    return file_content"
   ]
  },
  {
   "cell_type": "code",
   "execution_count": 8,
   "metadata": {},
   "outputs": [],
   "source": [
    "def create_frequency_table(text):\n",
    "    stop_words = set(stopwords.words(\"english\"))\n",
    "    words = word_tokenize(text)\n",
    "    frequency_table = dict() \n",
    "    for word in words: \n",
    "        word = word.lower() \n",
    "        if word in stop_words: \n",
    "            continue\n",
    "        if word in frequency_table: \n",
    "            frequency_table[word] += 1\n",
    "        else: \n",
    "            frequency_table[word] = 1\n",
    "    return frequency_table"
   ]
  },
  {
   "cell_type": "code",
   "execution_count": 9,
   "metadata": {},
   "outputs": [],
   "source": [
    "file_name = \"input_text.txt\"\n",
    "input_file = os.getcwd() + \"\\\\\" + file_name\n",
    "file_content = read_file(input_file)\n",
    "frequency_table = create_frequency_table(file_content)"
   ]
  },
  {
   "cell_type": "code",
   "execution_count": 10,
   "metadata": {
    "scrolled": false
   },
   "outputs": [
    {
     "data": {
      "text/plain": [
       "{'discovering': 1,\n",
       " 'harmful': 2,\n",
       " 'effects': 1,\n",
       " 'pollution': 9,\n",
       " ',': 15,\n",
       " 'one': 1,\n",
       " 'perform': 1,\n",
       " 'task': 1,\n",
       " 'stopping': 1,\n",
       " 'decreasing': 1,\n",
       " 'soon': 1,\n",
       " 'possible': 1,\n",
       " '.': 15,\n",
       " 'overcome': 1,\n",
       " 'air': 3,\n",
       " 'people': 1,\n",
       " 'start': 1,\n",
       " 'taking': 1,\n",
       " 'public': 1,\n",
       " 'transport': 1,\n",
       " 'buses': 1,\n",
       " 'auto-rickshaws': 1,\n",
       " 'pool-cabs': 1,\n",
       " 'reduce': 2,\n",
       " 'generated': 1,\n",
       " 'vehicles': 1,\n",
       " 'try': 1,\n",
       " 'avoid': 1,\n",
       " 'bursting': 1,\n",
       " 'crackers': 2,\n",
       " 'especially': 1,\n",
       " 'time': 1,\n",
       " 'festivals': 1,\n",
       " 'causes': 2,\n",
       " 'huge': 1,\n",
       " 'amount': 1,\n",
       " 'toxic': 2,\n",
       " 'avoiding': 1,\n",
       " 'also': 3,\n",
       " 'help': 1,\n",
       " 'noise': 1,\n",
       " 'foremost': 1,\n",
       " 'must': 7,\n",
       " 'foster': 1,\n",
       " 'habit': 1,\n",
       " 'recycling': 1,\n",
       " 'used': 1,\n",
       " 'plastic': 1,\n",
       " 'materials': 2,\n",
       " 'dumped': 1,\n",
       " 'oceans': 2,\n",
       " 'land': 1,\n",
       " 'therefore': 1,\n",
       " 'dispose': 1,\n",
       " 'use': 1,\n",
       " 'instead': 1,\n",
       " 'reuse': 1,\n",
       " 'long': 1,\n",
       " 'inspire': 1,\n",
       " 'everyone': 2,\n",
       " 'plant': 1,\n",
       " 'trees': 1,\n",
       " 'absorb': 1,\n",
       " 'gases': 1,\n",
       " 'make': 1,\n",
       " 'disinfectant': 1,\n",
       " 'talking': 1,\n",
       " 'higher': 1,\n",
       " 'level': 1,\n",
       " 'government': 1,\n",
       " 'restrict': 1,\n",
       " 'usage': 1,\n",
       " 'fertilizers': 1,\n",
       " 'control': 1,\n",
       " 'soilâ€™s': 1,\n",
       " 'fertility': 1,\n",
       " 'industries': 2,\n",
       " 'forbidden': 1,\n",
       " 'discharging': 1,\n",
       " 'waste': 1,\n",
       " 'rivers': 1,\n",
       " 'causing': 1,\n",
       " 'water': 1,\n",
       " 'collectively': 1,\n",
       " 'types': 1,\n",
       " 'dangerous': 1,\n",
       " 'come': 2,\n",
       " 'grave': 1,\n",
       " 'outcomes': 1,\n",
       " 'step': 1,\n",
       " 'towards': 1,\n",
       " 'development': 1,\n",
       " 'ranging': 1,\n",
       " 'individuals': 1,\n",
       " 'dealing': 1,\n",
       " 'problem': 1,\n",
       " 'calls': 1,\n",
       " 'collective': 1,\n",
       " 'effort': 1,\n",
       " 'unite': 1,\n",
       " 'work': 1,\n",
       " 'furthermore': 1,\n",
       " 'lives': 1,\n",
       " 'innocent': 1,\n",
       " 'animals': 1,\n",
       " 'lost': 1,\n",
       " 'human': 1,\n",
       " 'actions': 1,\n",
       " 'us': 1,\n",
       " 'together': 1,\n",
       " 'take': 1,\n",
       " 'stand': 1,\n",
       " 'become': 1,\n",
       " 'voice': 1,\n",
       " 'unheard': 1,\n",
       " 'making': 1,\n",
       " 'earth': 1,\n",
       " 'pollution-free': 1}"
      ]
     },
     "execution_count": 10,
     "metadata": {},
     "output_type": "execute_result"
    }
   ],
   "source": [
    "frequency_table"
   ]
  },
  {
   "cell_type": "code",
   "execution_count": 11,
   "metadata": {},
   "outputs": [],
   "source": [
    "def create_score_dict(text):\n",
    "    Tokenized_Sents = sent_tokenize(text) \n",
    "    Sent_Value_Dict = dict()\n",
    "    frequency_table = create_frequency_table(text)\n",
    "    Frequency_dict = frequency_table.items()\n",
    "    \n",
    "    for sent in Tokenized_Sents: \n",
    "        for word, frequency in Frequency_dict: \n",
    "            if word in sent.lower(): \n",
    "                if sent in Sent_Value_Dict: \n",
    "                    Sent_Value_Dict[sent] += frequency \n",
    "                else: \n",
    "                    Sent_Value_Dict[sent] = frequency\n",
    "    return Sent_Value_Dict"
   ]
  },
  {
   "cell_type": "code",
   "execution_count": 12,
   "metadata": {},
   "outputs": [],
   "source": [
    "def Calculate_Average(text):\n",
    "    Sent_Value_Dict = create_score_dict(text)\n",
    "    \n",
    "    sumValues = 0\n",
    "    for sentence in Sent_Value_Dict:\n",
    "        sumValues += Sent_Value_Dict[sentence] \n",
    "    Avg = int(sumValues / len(Sent_Value_Dict))\n",
    "    \n",
    "    return Avg"
   ]
  },
  {
   "cell_type": "code",
   "execution_count": 15,
   "metadata": {},
   "outputs": [],
   "source": [
    "file_name = \"input_text.txt\"\n",
    "input_file = os.getcwd() + \"\\\\\" + file_name\n",
    "file_content = read_file(input_file)\n",
    "frequency_table = create_frequency_table(file_content)\n",
    "Sent_Value_Dict = create_score_dict(file_content)\n",
    "Average = Calculate_Average(file_content)"
   ]
  },
  {
   "cell_type": "code",
   "execution_count": 16,
   "metadata": {},
   "outputs": [
    {
     "data": {
      "text/plain": [
       "{'After discovering the harmful effects of pollution, one should perform the task of stopping or decreasing pollution as soon as possible.': 50,\n",
       " 'To overcome air pollution, people should start taking public transport such as buses, auto-rickshaws, pool-cabs to reduce pollution generated by vehicles.': 59,\n",
       " 'Try to avoid bursting crackers especially at the time of festivals which causes a huge amount of toxic pollution in the air.': 43,\n",
       " 'Avoiding crackers will also help to reduce noise pollution.': 35,\n",
       " 'Foremost is we must foster the habit of recycling.': 27,\n",
       " 'All the used plastic materials are been dumped in the oceans and land, which causes pollution.': 51,\n",
       " 'Therefore, we should not dispose of such toxic materials off after use, instead, reuse them as long as you can.': 41,\n",
       " 'We must also inspire everyone to plant more trees that will absorb the harmful gases and make the air disinfectant.': 41,\n",
       " 'While talking on a higher level, the government must restrict the usage of fertilizers to control the soilâ€™s fertility.': 48,\n",
       " 'Also, industries must be forbidden from discharging their waste into oceans and rivers, causing water pollution.': 60,\n",
       " 'Collectively, all types of pollution are dangerous and come with grave outcomes.': 48,\n",
       " 'Everyone must step towards development ranging from individuals to the industries.': 33,\n",
       " 'As dealing with this problem calls for a collective effort, so we must unite and work for it.': 45,\n",
       " 'Furthermore, the lives of innocent animals are being lost because of such human actions.': 39,\n",
       " 'So, all of us must come and together and take a stand to become a voice for the unheard and making this earth pollution-free.': 58}"
      ]
     },
     "execution_count": 16,
     "metadata": {},
     "output_type": "execute_result"
    }
   ],
   "source": [
    "Sent_Value_Dict"
   ]
  },
  {
   "cell_type": "code",
   "execution_count": 17,
   "metadata": {},
   "outputs": [
    {
     "data": {
      "text/plain": [
       "45"
      ]
     },
     "execution_count": 17,
     "metadata": {},
     "output_type": "execute_result"
    }
   ],
   "source": [
    "Average"
   ]
  },
  {
   "cell_type": "code",
   "execution_count": 18,
   "metadata": {},
   "outputs": [
    {
     "data": {
      "text/plain": [
       "'After discovering the harmful effects of pollution, one should perform the task of stopping or decreasing pollution as soon as possible. To overcome air pollution, people should start taking public transport such as buses, auto-rickshaws, pool-cabs to reduce pollution generated by vehicles. Try to avoid bursting crackers especially at the time of festivals which causes a huge amount of toxic pollution in the air. Avoiding crackers will also help to reduce noise pollution. Foremost is we must foster the habit of recycling. All the used plastic materials are been dumped in the oceans and land, which causes pollution. Therefore, we should not dispose of such toxic materials off after use, instead, reuse them as long as you can.\\n\\nWe must also inspire everyone to plant more trees that will absorb the harmful gases and make the air disinfectant. While talking on a higher level, the government must restrict the usage of fertilizers to control the soilâ€™s fertility. Also, industries must be forbidden from discharging their waste into oceans and rivers, causing water pollution. Collectively, all types of pollution are dangerous and come with grave outcomes.\\n\\nEveryone must step towards development ranging from individuals to the industries. As dealing with this problem calls for a collective effort, so we must unite and work for it. Furthermore, the lives of innocent animals are being lost because of such human actions. So, all of us must come and together and take a stand to become a voice for the unheard and making this earth pollution-free. '"
      ]
     },
     "execution_count": 18,
     "metadata": {},
     "output_type": "execute_result"
    }
   ],
   "source": [
    "file_content"
   ]
  },
  {
   "cell_type": "code",
   "execution_count": null,
   "metadata": {},
   "outputs": [],
   "source": []
  }
 ],
 "metadata": {
  "kernelspec": {
   "display_name": "Python 3",
   "language": "python",
   "name": "python3"
  },
  "language_info": {
   "codemirror_mode": {
    "name": "ipython",
    "version": 3
   },
   "file_extension": ".py",
   "mimetype": "text/x-python",
   "name": "python",
   "nbconvert_exporter": "python",
   "pygments_lexer": "ipython3",
   "version": "3.8.5"
  }
 },
 "nbformat": 4,
 "nbformat_minor": 2
}
